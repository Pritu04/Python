{
  "nbformat": 4,
  "nbformat_minor": 0,
  "metadata": {
    "colab": {
      "provenance": [],
      "authorship_tag": "ABX9TyOLGd4WeJd/b7iXw2HOEfdp",
      "include_colab_link": true
    },
    "kernelspec": {
      "name": "python3",
      "display_name": "Python 3"
    },
    "language_info": {
      "name": "python"
    }
  },
  "cells": [
    {
      "cell_type": "markdown",
      "metadata": {
        "id": "view-in-github",
        "colab_type": "text"
      },
      "source": [
        "<a href=\"https://colab.research.google.com/github/Pritu04/Python/blob/main/Lab1.ipynb\" target=\"_parent\"><img src=\"https://colab.research.google.com/assets/colab-badge.svg\" alt=\"Open In Colab\"/></a>"
      ]
    },
    {
      "cell_type": "markdown",
      "source": [
        "**1.Write a Python program to take two numbers as input from the user and display their sum.**"
      ],
      "metadata": {
        "id": "MtA_ARFU_Ph1"
      }
    },
    {
      "cell_type": "code",
      "execution_count": null,
      "metadata": {
        "colab": {
          "base_uri": "https://localhost:8080/"
        },
        "id": "_6tJe3au_IHA",
        "outputId": "c23b8d42-0a5f-4e48-f8fc-a89ac4f09b75"
      },
      "outputs": [
        {
          "output_type": "stream",
          "name": "stdout",
          "text": [
            "enter first number1\n",
            "enter second number2.1\n",
            "3.1\n"
          ]
        }
      ],
      "source": [
        "a=int(input(\"enter first number\"))\n",
        "b=float(input(\"enter second number\"))\n",
        "sum=a+b\n",
        "print(sum)"
      ]
    },
    {
      "cell_type": "markdown",
      "source": [
        "**2.\tCalculate and print the midpoint of two numbers entered by the user.**"
      ],
      "metadata": {
        "id": "NE7Gz9_wBadD"
      }
    },
    {
      "cell_type": "code",
      "source": [
        "a=int(input(\"enter first number\"))\n",
        "b=int(input(\"enter second number\"))\n",
        "mid=(a+b)/2\n",
        "print(mid)"
      ],
      "metadata": {
        "colab": {
          "base_uri": "https://localhost:8080/"
        },
        "id": "kbfnMQdiBhQt",
        "outputId": "f18626e4-3485-4214-9c8e-4a53b46622b9"
      },
      "execution_count": null,
      "outputs": [
        {
          "output_type": "stream",
          "name": "stdout",
          "text": [
            "enter first number1\n",
            "enter second number10\n",
            "5.5\n"
          ]
        }
      ]
    },
    {
      "cell_type": "markdown",
      "source": [
        "**3.\tWrite a Python program to calculate the area of a triangle using the formula: area = 0.5 * base * height. **"
      ],
      "metadata": {
        "id": "qvHVO8MaB-Ni"
      }
    },
    {
      "cell_type": "code",
      "source": [
        "base=int(input(\"enter base of triangle=\"))\n",
        "height=int(input(\"enter height of triangle=\"))\n",
        "area = 0.5 * base * height\n",
        "print(area)"
      ],
      "metadata": {
        "colab": {
          "base_uri": "https://localhost:8080/"
        },
        "id": "YDQBWt-uCRnt",
        "outputId": "15502c96-f9a1-4a10-fc6c-aaa24222808e"
      },
      "execution_count": null,
      "outputs": [
        {
          "output_type": "stream",
          "name": "stdout",
          "text": [
            "enter base of triangle=10\n",
            "enter height of triangle=10\n",
            "50.0\n"
          ]
        }
      ]
    },
    {
      "cell_type": "markdown",
      "source": [
        "**4.\tTake three numbers as input from the user and display their product.**\n"
      ],
      "metadata": {
        "id": "d7brsETKDHTT"
      }
    },
    {
      "cell_type": "code",
      "source": [
        "a = int(input(\"Enter first number: \"))\n",
        "b = int(input(\"Enter second number: \"))\n",
        "c = int(input(\"Enter third number: \"))\n",
        "product = a * b * c\n",
        "print(\"The product of three numbers is:\", product)"
      ],
      "metadata": {
        "colab": {
          "base_uri": "https://localhost:8080/"
        },
        "id": "zQQZosknDOV0",
        "outputId": "522ce0b6-a6bf-41f1-dc6d-2744d92f0199"
      },
      "execution_count": null,
      "outputs": [
        {
          "output_type": "stream",
          "name": "stdout",
          "text": [
            "Enter first number: 2\n",
            "Enter second number: 2\n",
            "Enter third number: 2\n",
            "The product of three numbers is: 8\n"
          ]
        }
      ]
    },
    {
      "cell_type": "markdown",
      "source": [
        "**5.\tTake a number as input and display its square and cube.**\n"
      ],
      "metadata": {
        "id": "H71v9a8LECIn"
      }
    },
    {
      "cell_type": "code",
      "source": [
        "a = int(input(\"Enter a number: \"))\n",
        "square = a*a\n",
        "cube = a*a*a\n",
        "print(f\"The square of {a} is:\",square)\n",
        "print(f\"The cube of {a} is:\", cube)\n"
      ],
      "metadata": {
        "colab": {
          "base_uri": "https://localhost:8080/"
        },
        "id": "WXpJuiGjEJeG",
        "outputId": "687313ef-5ff3-431e-cb1c-29bf9d63ed32"
      },
      "execution_count": null,
      "outputs": [
        {
          "output_type": "stream",
          "name": "stdout",
          "text": [
            "Enter a number: 2\n",
            "The square of 2 is: 4\n",
            "The cube of 2 is: 8\n"
          ]
        }
      ]
    },
    {
      "cell_type": "markdown",
      "source": [
        "**6.\tTake two numbers as input and display their quotient and remainder.**"
      ],
      "metadata": {
        "id": "ide244zeGoF-"
      }
    },
    {
      "cell_type": "code",
      "source": [
        "a = int(input(\"Enter the dividend: \"))\n",
        "b = int(input(\"Enter the divisor: \"))\n",
        "\n",
        "quotient = a // b # Use integer division\n",
        "remainder = a % b\n",
        "\n",
        "print(f\"Quotient of {a} and {b} is:\", quotient)\n",
        "print(f\"Remainderof {a} and {b} is:\", remainder)\n"
      ],
      "metadata": {
        "colab": {
          "base_uri": "https://localhost:8080/"
        },
        "id": "McWPbZdCGyzX",
        "outputId": "10f3ea2d-5495-43ca-d78e-0f5a265c6ce2"
      },
      "execution_count": null,
      "outputs": [
        {
          "output_type": "stream",
          "name": "stdout",
          "text": [
            "Enter the dividend: 10\n",
            "Enter the divisor: 2\n",
            "Quotient of 10 and 2 is: 5\n",
            "Remainderof 10 and 2 is: 0\n"
          ]
        }
      ]
    },
    {
      "cell_type": "markdown",
      "source": [
        "**7.\tTake three numbers as input and display their average.**"
      ],
      "metadata": {
        "id": "VNPHNnXxHknE"
      }
    },
    {
      "cell_type": "code",
      "source": [
        "\n",
        "a = float(input(\"Enter the first number: \"))\n",
        "b = float(input(\"Enter the second number: \"))\n",
        "c = float(input(\"Enter the third number: \"))\n",
        "\n",
        "sum = a + b + c\n",
        "average = sum / 3\n",
        "print(f\"The average of the three numbers {a} and {b} and {c} is:\", average)"
      ],
      "metadata": {
        "colab": {
          "base_uri": "https://localhost:8080/"
        },
        "id": "MiQ6L90JHq9T",
        "outputId": "56a2f039-120f-480b-85bf-9f4d66ffd612"
      },
      "execution_count": null,
      "outputs": [
        {
          "output_type": "stream",
          "name": "stdout",
          "text": [
            "Enter the first number: 1\n",
            "Enter the second number: 2\n",
            "Enter the third number: 3\n",
            "The average of the three numbers 1.0and 2.0and 3.0 is: 2.0\n"
          ]
        }
      ]
    },
    {
      "cell_type": "markdown",
      "source": [
        "**8.\tWrite a Python program to calculate the area of a rectangle using the formula: area = length * width.**"
      ],
      "metadata": {
        "id": "GoOEOzacJTAh"
      }
    },
    {
      "cell_type": "code",
      "source": [
        "length = float(input(\"Enter the length of the rectangle: \"))\n",
        "width = float(input(\"Enter the width of the rectangle: \"))\n",
        "\n",
        "area = length * width\n",
        "\n",
        "print(\"The area of the rectangle is:\", area)"
      ],
      "metadata": {
        "colab": {
          "base_uri": "https://localhost:8080/"
        },
        "id": "y6xvnUiQJhFR",
        "outputId": "8fea4b97-45c5-4187-e5a8-c394580c105a"
      },
      "execution_count": null,
      "outputs": [
        {
          "output_type": "stream",
          "name": "stdout",
          "text": [
            "Enter the length of the rectangle: 2.5\n",
            "Enter the width of the rectangle: 1\n",
            "The area of the rectangle is: 2.5\n"
          ]
        }
      ]
    },
    {
      "cell_type": "markdown",
      "source": [
        "**9. Take five numbers as input representing marks obtained and total marks. Display the percentage. **"
      ],
      "metadata": {
        "id": "bGuJFKKnJ1Nh"
      }
    },
    {
      "cell_type": "code",
      "source": [
        "# Input marks obtained\n",
        "mark1_obtained = float(input(\"Enter marks obtained in subject 1: \"))\n",
        "mark2_obtained = float(input(\"Enter marks obtained in subject 2: \"))\n",
        "mark3_obtained = float(input(\"Enter marks obtained in subject 3: \"))\n",
        "mark4_obtained = float(input(\"Enter marks obtained in subject 4: \"))\n",
        "mark5_obtained = float(input(\"Enter marks obtained in subject 5: \"))\n",
        "\n",
        "# Input total marks for each subject\n",
        "total1_marks = float(input(\"Enter total marks for subject 1: \"))\n",
        "total2_marks = float(input(\"Enter total marks for subject 2: \"))\n",
        "total3_marks = float(input(\"Enter total marks for subject 3: \"))\n",
        "total4_marks = float(input(\"Enter total marks for subject 4: \"))\n",
        "total5_marks = float(input(\"Enter total marks for subject 5: \"))\n",
        "\n",
        "# Calculate total obtained marks\n",
        "total_obtained = mark1_obtained + mark2_obtained + mark3_obtained + mark4_obtained + mark5_obtained\n",
        "\n",
        "# Calculate total possible marks\n",
        "total_possible = total1_marks + total2_marks + total3_marks + total4_marks + total5_marks\n",
        "\n",
        "# Calculate percentage\n",
        "if total_possible > 0:\n",
        "    percentage = (total_obtained / total_possible) * 100\n",
        "    print(f\"The total percentage is: {percentage}%\")\n",
        "else:\n",
        "    print(\"Error: Total possible marks cannot be zero, unable to calculate percentage.\")"
      ],
      "metadata": {
        "colab": {
          "base_uri": "https://localhost:8080/"
        },
        "id": "IWuYcGi2KUTF",
        "outputId": "51e85e57-a447-44a0-97c6-0942381ad801"
      },
      "execution_count": null,
      "outputs": [
        {
          "output_type": "stream",
          "name": "stdout",
          "text": [
            "Enter marks obtained in subject 1: 19\n",
            "Enter marks obtained in subject 2: 20\n",
            "Enter marks obtained in subject 3: 20\n",
            "Enter marks obtained in subject 4: 20\n",
            "Enter marks obtained in subject 5: 20\n",
            "Enter total marks for subject 1: 20\n",
            "Enter total marks for subject 2: 20\n",
            "Enter total marks for subject 3: 20\n",
            "Enter total marks for subject 4: 20\n",
            "Enter total marks for subject 5: 20\n",
            "The total percentage is: 99.0%\n"
          ]
        }
      ]
    },
    {
      "cell_type": "markdown",
      "source": [
        "***10.\tWrite a Python program to swap two numbers entered by the user without using a third variable.***"
      ],
      "metadata": {
        "id": "82XjC6ioMKPG"
      }
    },
    {
      "cell_type": "code",
      "source": [
        "a = int(input(\"Enter the first number: \"))\n",
        "b= int(input(\"Enter the second number: \"))\n",
        "\n",
        "print(f\"Before swapping: a = {a}, b = {b}\")\n",
        "a, b = b, a\n",
        "\n",
        "print(f\"After swapping: a = {a}, b = {b}\")"
      ],
      "metadata": {
        "colab": {
          "base_uri": "https://localhost:8080/"
        },
        "id": "zA6MYmvqMX-_",
        "outputId": "0d6e2f1d-4ea6-477e-df11-e85f9d9cb4dc"
      },
      "execution_count": null,
      "outputs": [
        {
          "output_type": "stream",
          "name": "stdout",
          "text": [
            "Enter the first number: 2\n",
            "Enter the second number: 5\n",
            "Before swapping: a = 2, b = 5\n",
            "After swapping: a = 5, b = 2\n"
          ]
        }
      ]
    },
    {
      "cell_type": "markdown",
      "source": [
        "**11.\tTake a number as input and check whether it is even or odd.**"
      ],
      "metadata": {
        "id": "VI7pklPwNJ8G"
      }
    },
    {
      "cell_type": "code",
      "source": [
        "a = int(input(\"Enter an integer: \"))\n",
        "\n",
        "if a % 2 == 0:\n",
        "    print(f\"{a} is even\")\n",
        "else:\n",
        "    print(f\"{a} is odd\")\n"
      ],
      "metadata": {
        "colab": {
          "base_uri": "https://localhost:8080/"
        },
        "id": "lxEpoIdLNNmL",
        "outputId": "96410bee-90f9-41dd-e18a-3f5af958c7df"
      },
      "execution_count": null,
      "outputs": [
        {
          "output_type": "stream",
          "name": "stdout",
          "text": [
            "Enter an integer: 3\n",
            "3 is odd\n"
          ]
        }
      ]
    },
    {
      "cell_type": "markdown",
      "source": [
        "**12.\tWrite a Python program to convert temperature from Celsius to Fahrenheit using the formula: F = (C × 9/5) + 32.**"
      ],
      "metadata": {
        "id": "z8F6v9X9NkTi"
      }
    },
    {
      "cell_type": "code",
      "source": [
        "celsius = float(input(\"Enter temperature in Celsius: \"))\n",
        "fahrenheit = (celsius * 9/5) + 32\n",
        "print(\"Temperature in Fahrenheit:\", fahrenheit)\n"
      ],
      "metadata": {
        "colab": {
          "base_uri": "https://localhost:8080/"
        },
        "id": "-ptExfWKNvS2",
        "outputId": "fa81042e-80da-4cb3-d032-c200d62080f9"
      },
      "execution_count": null,
      "outputs": [
        {
          "output_type": "stream",
          "name": "stdout",
          "text": [
            "Enter temperature in Celsius: 2\n",
            "Temperature in Fahrenheit: 35.6\n"
          ]
        }
      ]
    },
    {
      "cell_type": "markdown",
      "source": [
        "**13.\tWrite a Python program to convert temperature from Fahrenheit to Celsius using the formula: C = (F - 32) × 5/9.**"
      ],
      "metadata": {
        "id": "c7uFA64aN7Vu"
      }
    },
    {
      "cell_type": "code",
      "source": [
        "def fahrenheit_to_celsius(fahrenheit):\n",
        "  \"\"\"Converts a temperature from Fahrenheit to Celsius.\"\"\"\n",
        "  return (fahrenheit - 32) * 5/9\n",
        "\n",
        "fahrenheit_temp = float(input(\"Enter temperature in Fahrenheit: \"))\n",
        "\n",
        "celsius_temp = fahrenheit_to_celsius(fahrenheit_temp)\n",
        "print(f\"{fahrenheit_temp} degrees Fahrenheit is equal to {celsius_temp:.2f} degrees Celsius.\")\n"
      ],
      "metadata": {
        "colab": {
          "base_uri": "https://localhost:8080/"
        },
        "id": "M1LIHo0OOA1z",
        "outputId": "88a964ba-4114-496d-a6e2-4e94de502b65"
      },
      "execution_count": null,
      "outputs": [
        {
          "output_type": "stream",
          "name": "stdout",
          "text": [
            "Enter temperature in Fahrenheit: 2\n",
            "2.0 degrees Fahrenheit is equal to -16.67 degrees Celsius.\n"
          ]
        }
      ]
    },
    {
      "cell_type": "markdown",
      "source": [
        "**14.\tTake two numbers as input and find their greatest common divisor (GCD).**"
      ],
      "metadata": {
        "id": "-UIvGsbEOsX-"
      }
    },
    {
      "cell_type": "code",
      "source": [
        "def find_gcd(a, b):\n",
        "    \"\"\"\n",
        "    Calculates the Greatest Common Divisor (GCD) of two numbers using the Euclidean algorithm.\n",
        "\n",
        "    Args:\n",
        "        a (int): The first number.\n",
        "        b (int): The second number.\n",
        "\n",
        "    Returns:\n",
        "        int: The GCD of a and b.\n",
        "    \"\"\"\n",
        "    while b:\n",
        "        a, b = b, a % b\n",
        "    return a\n",
        "\n",
        "# Take input from the user\n",
        "try:\n",
        "    num1 = int(input(\"Enter the first number: \"))\n",
        "    num2 = int(input(\"Enter the second number: \"))\n",
        "\n",
        "    # Calculate and print the GCD\n",
        "    gcd_result = find_gcd(num1, num2)\n",
        "    print(f\"The Greatest Common Divisor (GCD) of {num1} and {num2} is: {gcd_result}\")\n",
        "\n",
        "except ValueError:\n",
        "    print(\"Invalid input. Please enter integers only.\")"
      ],
      "metadata": {
        "colab": {
          "base_uri": "https://localhost:8080/"
        },
        "id": "t9sStAUuOzTr",
        "outputId": "645bbed7-a962-4e34-bf35-2c4d22acc5b5"
      },
      "execution_count": null,
      "outputs": [
        {
          "output_type": "stream",
          "name": "stdout",
          "text": [
            "Enter the first number: 20\n",
            "Enter the second number: 28\n",
            "The Greatest Common Divisor (GCD) of 20 and 28 is: 4\n"
          ]
        }
      ]
    },
    {
      "cell_type": "markdown",
      "source": [
        "**15.\tWrite a Python program to calculate the simple interest using the formula: SI = (P × R × T) / 100, where P is the principal amount, R is the rate of interest, and T is the time in years.**"
      ],
      "metadata": {
        "id": "tjJApCUQPH79"
      }
    },
    {
      "cell_type": "code",
      "source": [
        "def calculate_simple_interest(principal, rate, time):\n",
        "  \"\"\"\n",
        "  Calculates the simple interest using the formula SI = (P * R * T) / 100.\n",
        "\n",
        "  Args:\n",
        "    principal (float): The principal amount.\n",
        "    rate (float): The annual rate of interest (as a percentage).\n",
        "    time (float): The time in years.\n",
        "\n",
        "  Returns:\n",
        "    float: The calculated simple interest.\n",
        "  \"\"\"\n",
        "  simple_interest = (principal * rate * time) / 100\n",
        "  return simple_interest\n",
        "\n",
        "try:\n",
        "  principal_amount = float(input(\"Enter the principal amount (P): \"))\n",
        "  interest_rate = float(input(\"Enter the annual rate of interest (R in %): \"))\n",
        "  time_in_years = float(input(\"Enter the time in years (T): \"))\n",
        "\n",
        "\n",
        "  si = calculate_simple_interest(principal_amount, interest_rate, time_in_years)\n",
        "\n",
        "\n",
        "  print(f\"The simple interest is: {si:.2f}\")\n",
        "\n",
        "except ValueError:\n",
        "  print(\"Invalid input. Please enter numerical values for principal, rate, and time.\")"
      ],
      "metadata": {
        "colab": {
          "base_uri": "https://localhost:8080/"
        },
        "id": "5HYTxyV5PPTD",
        "outputId": "50fbe8ce-fa0a-4ead-ee6a-b2d636f635a2"
      },
      "execution_count": null,
      "outputs": [
        {
          "output_type": "stream",
          "name": "stdout",
          "text": [
            "Enter the principal amount (P): 2000\n",
            "Enter the annual rate of interest (R in %): 10\n",
            "Enter the time in years (T): 10\n",
            "The simple interest is: 2000.00\n"
          ]
        }
      ]
    },
    {
      "cell_type": "markdown",
      "source": [
        "**16.\tWrite a Python program to check whether a number is positive, negative, or zero.**"
      ],
      "metadata": {
        "id": "Hi9JlLyHPufp"
      }
    },
    {
      "cell_type": "code",
      "source": [
        "\n",
        "try:\n",
        "    number = float(input(\"Enter a number: \"))\n",
        "\n",
        "\n",
        "    if number > 0:\n",
        "        print(\"The number is positive.\")\n",
        "    elif number < 0:\n",
        "        print(\"The number is negative.\")\n",
        "    else:\n",
        "        print(\"The number is zero.\")\n",
        "\n",
        "except ValueError:\n",
        "    print(\"Invalid input. Please enter a valid number.\")"
      ],
      "metadata": {
        "colab": {
          "base_uri": "https://localhost:8080/"
        },
        "id": "TZP6pvJLP3g8",
        "outputId": "b1b55e12-901d-407b-dc1c-89ac3f3faa23"
      },
      "execution_count": null,
      "outputs": [
        {
          "output_type": "stream",
          "name": "stdout",
          "text": [
            "Enter a number: -5\n",
            "The number is negative.\n"
          ]
        }
      ]
    },
    {
      "cell_type": "markdown",
      "source": [
        "**17.\tWrite a Python program to find the largest among three numbers entered by the user.**"
      ],
      "metadata": {
        "id": "WbY5LW-9QHxB"
      }
    },
    {
      "cell_type": "code",
      "source": [
        "num1 = float(input(\"Enter the first number: \"))\n",
        "num2 = float(input(\"Enter the second number: \"))\n",
        "num3 = float(input(\"Enter the third number: \"))\n",
        "if (num1 >= num2) and (num1 >= num3):\n",
        "    largest = num1\n",
        "elif (num2 >= num1) and (num2 >= num3):\n",
        "    largest = num2\n",
        "else:\n",
        "    largest = num3\n",
        "\n",
        "print(\"The largest number is:\", largest)"
      ],
      "metadata": {
        "colab": {
          "base_uri": "https://localhost:8080/"
        },
        "id": "hoSgFF1lQSVC",
        "outputId": "0e5eedfb-32d4-46f7-cfd2-8a01cedb5c9c"
      },
      "execution_count": null,
      "outputs": [
        {
          "output_type": "stream",
          "name": "stdout",
          "text": [
            "Enter the first number: 10\n",
            "Enter the second number: 20\n",
            "Enter the third number: 14\n",
            "The largest number is: 20.0\n"
          ]
        }
      ]
    },
    {
      "cell_type": "markdown",
      "source": [
        "**18.\tTake a number as input and check whether it is a multiple of 5.**"
      ],
      "metadata": {
        "id": "zow0cA5fQh2Q"
      }
    },
    {
      "cell_type": "code",
      "source": [
        "\n",
        "number = int(input(\"Enter a number: \"))\n",
        "if number % 5 == 0:\n",
        "    print(f\"{number} is a multiple of 5.\")\n",
        "else:\n",
        "    print(f\"{number} is not a multiple of 5.\")"
      ],
      "metadata": {
        "colab": {
          "base_uri": "https://localhost:8080/"
        },
        "id": "oY21zBU_Qk0Y",
        "outputId": "4a637d3f-3633-405b-ce52-997851c48079"
      },
      "execution_count": null,
      "outputs": [
        {
          "output_type": "stream",
          "name": "stdout",
          "text": [
            "Enter a number: 18\n",
            "18 is not a multiple of 5.\n"
          ]
        }
      ]
    },
    {
      "cell_type": "markdown",
      "source": [
        "19.\t**Write a Python program to calculate the perimeter of a circle using the formula: perimeter = 2 * π * radius**"
      ],
      "metadata": {
        "id": "Q7t40IZyQ5yR"
      }
    },
    {
      "cell_type": "code",
      "source": [
        "import math\n",
        "try:\n",
        "    radius = float(input(\"Enter the radius of the circle: \"))\n",
        "except ValueError:\n",
        "    print(\"Invalid input. Please enter a numerical value for the radius.\")\n",
        "    exit()\n",
        "if radius < 0:\n",
        "    print(\"Radius cannot be negative.\")\n",
        "else:\n",
        "    perimeter = 2 * math.pi * radius\n",
        "    print(f\"The perimeter of the circle with radius {radius} is: {perimeter:.2f}\")"
      ],
      "metadata": {
        "colab": {
          "base_uri": "https://localhost:8080/"
        },
        "id": "7eL4OnxmRJdS",
        "outputId": "e3dd1e59-c79c-4fdf-fefe-12ca1818bcc2"
      },
      "execution_count": null,
      "outputs": [
        {
          "output_type": "stream",
          "name": "stdout",
          "text": [
            "Enter the radius of the circle: 4\n",
            "The perimeter of the circle with radius 4.0 is: 25.13\n"
          ]
        }
      ]
    },
    {
      "cell_type": "code",
      "source": [
        "radius = float(input(\"Enter the radius of the circle: \"))\n",
        "if radius < 0:\n",
        "    print(\"Radius cannot be negative.\")\n",
        "else:\n",
        "\n",
        "    perimeter = 2 *  3.14159 * radius\n",
        "\n",
        "    # Print the result\n",
        "    print(f\"The perimeter of the circle with radius {radius} is: {perimeter:.2f}\")"
      ],
      "metadata": {
        "colab": {
          "base_uri": "https://localhost:8080/"
        },
        "id": "4JHkdfDwRg98",
        "outputId": "a0d4418e-c179-4e41-c0a7-2e0434036e16"
      },
      "execution_count": null,
      "outputs": [
        {
          "output_type": "stream",
          "name": "stdout",
          "text": [
            "Enter the radius of the circle: 4\n",
            "The perimeter of the circle with radius 4.0 is: 25.13\n"
          ]
        }
      ]
    },
    {
      "cell_type": "markdown",
      "source": [
        "**20.\tWrite a Python program to check whether a number is divisible by both 3 and 5.**"
      ],
      "metadata": {
        "id": "LdZnhdMRSCdI"
      }
    },
    {
      "cell_type": "code",
      "source": [
        "def check_divisibility(number):\n",
        "  \"\"\"\n",
        "  Checks if a given number is divisible by both 3 and 5.\n",
        "\n",
        "  Args:\n",
        "    number: The integer to be checked.\n",
        "\n",
        "  Returns:\n",
        "    A string indicating whether the number is divisible by both 3 and 5.\n",
        "  \"\"\"\n",
        "  if number % 3 == 0 and number % 5 == 0:\n",
        "    return f\"{number} is divisible by both 3 and 5.\"\n",
        "  else:\n",
        "    return f\"{number} is not divisible by both 3 and 5.\"\n",
        "\n",
        "# Get input from the user\n",
        "try:\n",
        "  num = int(input(\"Enter an integer: \"))\n",
        "  result = check_divisibility(num)\n",
        "  print(result)\n",
        "except ValueError:\n",
        "  print(\"Invalid input. Please enter an integer.\")"
      ],
      "metadata": {
        "colab": {
          "base_uri": "https://localhost:8080/"
        },
        "id": "Kq9OM0c8SHuO",
        "outputId": "114c230f-66f5-4961-8c06-67d01a84852c"
      },
      "execution_count": null,
      "outputs": [
        {
          "output_type": "stream",
          "name": "stdout",
          "text": [
            "Enter an integer: 12\n",
            "12 is not divisible by both 3 and 5.\n"
          ]
        }
      ]
    }
  ]
}